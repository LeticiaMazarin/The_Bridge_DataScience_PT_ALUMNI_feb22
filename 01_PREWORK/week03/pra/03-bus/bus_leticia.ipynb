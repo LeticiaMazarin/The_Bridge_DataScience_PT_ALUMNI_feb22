{
 "cells": [
  {
   "cell_type": "markdown",
   "metadata": {},
   "source": [
    "# Bus\n",
    "\n",
    "Este bus tiene un sistema de control de subida y bajada de pasajeros para monitorizar el número de ocupantes que lleva y así detectar cuando hay un aforo demasiado alto. \n",
    "\n",
    "En cada parada la subida y bajada de pasajeros se representa por una tupla compuesta por dos números enteros. \n",
    "```\n",
    "bus_stop = (in, out)\n",
    "```\n",
    "La sucesión de paradas se representa con una lista estas tuplas.\n",
    "```\n",
    "stops = [(in1, out1), (in2, out2), (in3, out3), (in4, out4)]\n",
    "```\n",
    "\n",
    "## Objetivos: \n",
    "* listas, tuplas\n",
    "* bucles while/for\n",
    "* mínimo, máximo, longitud\n",
    "* media, desviación estandard\n",
    "\n",
    "## Tareas\n",
    "1. Calcula el número de paradas. \n",
    "2. Asigna a una variable una lista cuyos elementos sean el número de pasajeros en cada parada (in-out), \n",
    "3. Halla el máximo de ocupación del autobús. \n",
    "4. Calcula la media de la ocupación. Y la desviación estandard. \n"
   ]
  },
  {
   "cell_type": "code",
   "execution_count": 2,
   "metadata": {},
   "outputs": [
    {
     "name": "stdout",
     "output_type": "stream",
     "text": [
      "El número de paradas es: 9\n",
      "En la parada 1, se queda un total de 10 pasajeros en el autobus\n",
      "En la parada 2, se queda un total de 13 pasajeros en el autobus\n",
      "En la parada 3, se queda un total de 11 pasajeros en el autobus\n",
      "En la parada 4, se queda un total de 10 pasajeros en el autobus\n",
      "En la parada 5, se queda un total de 14 pasajeros en el autobus\n",
      "En la parada 6, se queda un total de 10 pasajeros en el autobus\n",
      "En la parada 7, se queda un total de 7 pasajeros en el autobus\n",
      "En la parada 8, se queda un total de 5 pasajeros en el autobus\n",
      "En la parada 9, se queda un total de 4 pasajeros en el autobus\n",
      "La ocupación máxima del autobús es de 14 pasajeros\n",
      "La media de la ocupación en el autobús es de 9 pasajeros\n",
      "La desviación estándar es de: 3.197221015541813\n"
     ]
    }
   ],
   "source": [
    "stops = [(10, 0), (4, 1), (3, 5), (3, 4), (5, 1), (1, 5), (5, 8), (4, 6), (2, 3)]\n",
    "\n",
    "# 1. Calcula el número de paradas. \n",
    "\n",
    "print(f\"El número de paradas es: {len(stops)}\")\n",
    "\n",
    "\n",
    "# 2. Asigna a una variable una lista cuyos elementos sean el número de pasajeros en \n",
    "# cada parada: Cada elemento depende del elemento previo en la lista + in - out.  \n",
    "stop_number = 0\n",
    "passengers = 0 \n",
    "\n",
    "total_pass_stop = []\n",
    "\n",
    "for pair in stops:\n",
    "    passengers += pair[0]\n",
    "    passengers -= pair[1]\n",
    "    stop_number += 1\n",
    "    total_pass_stop += [passengers]\n",
    "    print(f\"En la parada {stop_number}, se queda un total de {passengers} pasajeros en el autobus\")\n",
    "\n",
    "# 3. Halla el máximo de ocupación del autobús. \n",
    "print(f\"La ocupación máxima del autobús es de {max(total_pass_stop)} pasajeros\")\n",
    "\n",
    "# 4. Calcula la media de la ocupación. Y la desviación estandard. \n",
    "import numpy as np\n",
    "average_pass = sum(total_pass_stop)//len(total_pass_stop)\n",
    "print(f\"La media de la ocupación en el autobús es de {average_pass} pasajeros\")\n",
    "print(f\"La desviación estándar es de: {np.std(total_pass_stop)}\")"
   ]
  },
  {
   "cell_type": "code",
   "execution_count": 2,
   "metadata": {},
   "outputs": [
    {
     "name": "stdout",
     "output_type": "stream",
     "text": [
      "10\n"
     ]
    }
   ],
   "source": []
  }
 ],
 "metadata": {
  "kernelspec": {
   "display_name": "Python 3",
   "language": "python",
   "name": "python3"
  },
  "language_info": {
   "codemirror_mode": {
    "name": "ipython",
    "version": 3
   },
   "file_extension": ".py",
   "mimetype": "text/x-python",
   "name": "python",
   "nbconvert_exporter": "python",
   "pygments_lexer": "ipython3",
   "version": "3.9.5"
  }
 },
 "nbformat": 4,
 "nbformat_minor": 2
}
