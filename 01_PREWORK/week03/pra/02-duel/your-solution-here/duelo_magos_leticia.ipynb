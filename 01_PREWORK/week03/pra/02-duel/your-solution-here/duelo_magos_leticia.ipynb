{
 "cells": [
  {
   "cell_type": "code",
   "execution_count": 6,
   "metadata": {},
   "outputs": [
    {
     "name": "stdout",
     "output_type": "stream",
     "text": [
      "Gandalf ha ganado con 6 puntos\n"
     ]
    }
   ],
   "source": [
    "gandalf = [10, 11, 13, 30, 22, 11, 10, 33, 22, 22]\n",
    "saruman = [23, 66, 12, 43, 12, 10, 44, 23, 12, 17]\n",
    "points_gandalf = 0\n",
    "points_saruman = 0\n",
    "len_gandalf= len(gandalf)\n",
    "len_saruman = len(saruman)\n",
    "\n",
    "if len_gandalf == len_saruman:\n",
    "    for i, j in zip(gandalf, saruman):\n",
    "        if i > j:\n",
    "            points_gandalf += 1\n",
    "        elif i < j:\n",
    "            points_saruman +=1\n",
    "    if points_saruman < points_gandalf:\n",
    "        print(f\"Gandalf ha ganado con {points_gandalf} puntos\")\n",
    "    elif points_saruman > points_gandalf:\n",
    "        print(f\"Saruman ha ganado con {points_saruman} puntos\")\n",
    "    elif points_saruman == points_gandalf:\n",
    "        print(\"Hubo un empate\")\n",
    "else:\n",
    "    print(\"No se puede comparar\")\n",
    "\n",
    "\n",
    "        \n"
   ]
  }
 ],
 "metadata": {
  "interpreter": {
   "hash": "bbdf12f5ff899a190361f30644d72d9ae118dfc706ef054eef5855c99dde0a66"
  },
  "kernelspec": {
   "display_name": "Python 3.9.5 ('the_bridge')",
   "language": "python",
   "name": "python3"
  },
  "language_info": {
   "codemirror_mode": {
    "name": "ipython",
    "version": 3
   },
   "file_extension": ".py",
   "mimetype": "text/x-python",
   "name": "python",
   "nbconvert_exporter": "python",
   "pygments_lexer": "ipython3",
   "version": "3.9.5"
  },
  "orig_nbformat": 4
 },
 "nbformat": 4,
 "nbformat_minor": 2
}
