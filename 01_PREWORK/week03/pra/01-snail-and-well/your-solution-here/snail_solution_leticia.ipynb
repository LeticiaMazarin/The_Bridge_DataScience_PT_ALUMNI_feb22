{
 "cells": [
  {
   "cell_type": "code",
   "execution_count": 1,
   "metadata": {},
   "outputs": [
    {
     "name": "stdout",
     "output_type": "stream",
     "text": [
      "El caracol ha avanzado un total de 10 cm en el día 1\n",
      "El caracol ha avanzado un total de 20 cm en el día 2\n",
      "El caracol ha avanzado un total de 30 cm en el día 3\n",
      "El caracol ha avanzado un total de 40 cm en el día 4\n",
      "El caracol ha avanzado un total de 50 cm en el día 5\n",
      "El caracol ha avanzado un total de 60 cm en el día 6\n",
      "El caracol ha avanzado un total de 70 cm en el día 7\n",
      "El caracol ha avanzado un total de 80 cm en el día 8\n",
      "El caracol ha avanzado un total de 90 cm en el día 9\n",
      "El caracol ha avanzado un total de 100 cm en el día 10\n",
      "El caracol ha avanzado un total de 110 cm en el día 11\n",
      "El caracol ha avanzado un total de 120 cm en el día 12\n",
      "El caracol ha avanzado un total de 130 cm en el día 13\n",
      "El caracol ha salido del hoyo en el día 13\n"
     ]
    }
   ],
   "source": [
    "end = 125\n",
    "progress = 0\n",
    "day = 0\n",
    "\n",
    "while progress < end:\n",
    "    progress += 10 # El caracol sube 30 cm pero vuelve a bajar 20 cm por la noche, consideramos 10 cm de progreso\n",
    "    day += 1\n",
    "    print(f\"El caracol ha avanzado un total de {progress} cm en el día {day}\")\n",
    "print(f\"El caracol ha salido del hoyo en el día {day}\")"
   ]
  },
  {
   "cell_type": "code",
   "execution_count": 2,
   "metadata": {},
   "outputs": [
    {
     "name": "stdout",
     "output_type": "stream",
     "text": [
      "Su máximo desplazamiento en un día es 77 cm\n",
      "Su minimo desplazamiento en un día es 12 cm\n",
      "Su velocidad media durante el día es de 38 cm\n"
     ]
    }
   ],
   "source": [
    "avance_cm = [30, 21, 33, 77, 44, 45, 23, 45, 12, 34, 55]\n",
    "\n",
    "max_progress = max(avance_cm)\n",
    "min_progress = min(avance_cm)\n",
    "avg_velocity = sum(avance_cm)//len(avance_cm)\n",
    "print(f\"Su máximo desplazamiento en un día es {max_progress} cm\")\n",
    "print(f\"Su minimo desplazamiento en un día es {min_progress} cm\")\n",
    "print(f\"Su velocidad media durante el día es de {avg_velocity} cm\")\n",
    "\n"
   ]
  }
 ],
 "metadata": {
  "interpreter": {
   "hash": "bbdf12f5ff899a190361f30644d72d9ae118dfc706ef054eef5855c99dde0a66"
  },
  "kernelspec": {
   "display_name": "Python 3.9.5 ('the_bridge')",
   "language": "python",
   "name": "python3"
  },
  "language_info": {
   "codemirror_mode": {
    "name": "ipython",
    "version": 3
   },
   "file_extension": ".py",
   "mimetype": "text/x-python",
   "name": "python",
   "nbconvert_exporter": "python",
   "pygments_lexer": "ipython3",
   "version": "3.9.5"
  },
  "orig_nbformat": 4
 },
 "nbformat": 4,
 "nbformat_minor": 2
}
