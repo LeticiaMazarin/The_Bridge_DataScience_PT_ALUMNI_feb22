{
 "cells": [
  {
   "cell_type": "markdown",
   "metadata": {},
   "source": [
    "Programación para *Data Science*\n",
    "============================\n",
    "\n",
    "Intro101 - 07a Conceptos avanzados de Python\n",
    "--------------------------------------\n",
    "\n",
    "En este Notebook encontraréis dos conjuntos de ejercicios de Python."
   ]
  },
  {
   "cell_type": "markdown",
   "metadata": {},
   "source": [
    "### Ejercicio 1\n",
    "\n",
    "Un número primo es aquél que solo es divisible por él mismo y por 1.\n",
    "\n",
    "a) Escribe un código que compruebe si un número `x = 15` es solo divisible por 1 o por el mismo.  Escribe este código usando un iterador (un `for` o un `while`) que barra todos los valores desde `2` a `x-1`. Crea una variable `divisible`  que tenga por defecto valor `False` y asigne el valor `True` si a lo largo de la iteración encuentra un número natural divisible. Puedes usar el operador modulo `a % b` para saber si un numero `b` es divisible por `a`."
   ]
  },
  {
   "cell_type": "code",
   "execution_count": 1,
   "metadata": {},
   "outputs": [
    {
     "name": "stdout",
     "output_type": "stream",
     "text": [
      "No es primo\n"
     ]
    }
   ],
   "source": [
    "# Respuesta\n",
    "x = 15\n",
    "divisible = False\n",
    "for i in range(2,x-1):\n",
    "    if x % i:\n",
    "        divisible\n",
    "    else:\n",
    "        divisible = True\n",
    "if divisible:\n",
    "    print(f\"No es primo\")\n",
    "else:\n",
    "    print(\"Es un número primo\")"
   ]
  },
  {
   "cell_type": "markdown",
   "metadata": {},
   "source": [
    "b) Convierte tu código anterior en una función que compruebe si el número del argumento es primo o no, devolviendo True is es primo y False si no es primo. Comprueba tu función con los valores 492366587, 492366585, 48947 y 2,\n"
   ]
  },
  {
   "cell_type": "code",
   "execution_count": 2,
   "metadata": {},
   "outputs": [
    {
     "name": "stdout",
     "output_type": "stream",
     "text": [
      "True\n",
      "False\n",
      "False\n",
      "True\n",
      "True\n"
     ]
    }
   ],
   "source": [
    "# Respuesta\n",
    "\n",
    "def es_primo(num):\n",
    "    for i in range(2, num):\n",
    "        if num % i == 0 and num != i:\n",
    "            return False\n",
    "    return True\n",
    "\n",
    "print(es_primo(492366587))\n",
    "print(es_primo(15))\n",
    "print(es_primo(492366585))\n",
    "print(es_primo(48947))\n",
    "print(es_primo(2))"
   ]
  },
  {
   "cell_type": "markdown",
   "metadata": {},
   "source": [
    "c) En el cálculo de la función anterior, una vez se ha encontrado un número que es divisible dentro del rango ya no tiene sentido comprobar el resto de números del rango. Por ejemplo si 10 ya es divisble entre 2, ya no hace falta probar de 3 en adelante pues ya sabemos que el número no es primo. \n",
    "\n",
    "Modifica la función anterior de la siguiente forma: \n",
    "- Una vez se encuentra el divisor, la iteración se interrumpe para no probar el resto de enteros. \n",
    "- La función devuelve\n",
    "    - **Si es primo**: True\n",
    "    - **Si no es primo**, el primer divisor mayor que 1.\n",
    "    \n",
    "Puedes hacer uso del comando *break* dentro de un bucle para interrumpir este, puedes consultar más información sobre break en la documentación de python [aquí](https://docs.python.org/2/tutorial/controlflow.html).\n",
    "\n",
    "Comprueba tu función con los valores 492366585, 492366587, 48947 y 2,"
   ]
  },
  {
   "cell_type": "code",
   "execution_count": null,
   "metadata": {},
   "outputs": [],
   "source": [
    "# Respuesta\n",
    "\n",
    "def es_primo(num):\n",
    "    for i in range(2, num):\n",
    "        if num % i == 0 and num != i:\n",
    "            return False\n",
    "        if num % i == 0 and num != i:\n",
    "            break\n",
    "    return True\n",
    "        \n",
    "\n",
    "print(es_primo(492366587))\n",
    "print(es_primo(15))\n",
    "print(es_primo(492366585))\n",
    "print(es_primo(48947))\n",
    "print(es_primo(2))"
   ]
  },
  {
   "cell_type": "markdown",
   "metadata": {},
   "source": [
    "### Ejercicio 2\n",
    "\n",
    "La Covid-19 es una enfermedad producida por la infección del virus SARS-CoV-2. La infección es transmisible de persona a persona y su contagiosidad depende de la cantidad del virus en las vías respiratorias. Si cada persona contagiada transmite la enfermedad a $\\beta$ contactos en promedio por periodo de tiempo $t$, es posible estimar la evolución del contagio con un modelo matemático sencillo.\n",
    "\n",
    "Para $t=1$día, las transmisiones en España se han estimado a partir de su histórico de las semanas de Febrero y Marzo del 2020 una $\\beta = 0.35$ transmissiones por día por infectado.\n",
    "\n",
    "Durante un periodo de tiempo (por ejempo un día $d$) la tasa de nuevos contagios se puede estimar como  una proporción al número de contagiados del periodo anterior $N$: \n",
    "\n",
    "$ \\Delta N = N_{1} - N = \\beta \\cdot $ (1)\n",
    "\n",
    "Por tanto, podemos proyectar el número futuro de afectados como \n",
    "\n",
    "$ N_{1} = N + \\beta \\cdot N = (1+\\beta) \\cdot $ (2) \n",
    "\n",
    "En dos días:\n",
    "\n",
    "$ N_{2} = (1+\\beta) \\cdot N_{1} = (1+\\beta)^2 \\cdot $  (3)\n",
    "\n",
    "Y en general en D días tendremos \n",
    "\n",
    "$ N_{D} = (1+\\beta)^D \\cdot N$  (4)\n",
    " \n",
    "Asumiendo este sencillo modelo: \n",
    "\n",
    "a) Implementa una función de dos parámetros (N: población infectada inicial, D: número de días), que devuelva el cálculo de afectados para D días siguiendo la ecuación (4). Suponiendo una población afectada de 4250 (población afectada en españa a día 13 de Marzo de 2020), usa la función para calcular la población estimada en 1, 2, 7 y 30 días. "
   ]
  },
  {
   "cell_type": "code",
   "execution_count": 6,
   "metadata": {},
   "outputs": [
    {
     "name": "stdout",
     "output_type": "stream",
     "text": [
      "5737.5\n",
      "7745.625000000001\n",
      "34731.64149433595\n",
      "34546335.38087164\n"
     ]
    }
   ],
   "source": [
    "# Respuesta\n",
    "\n",
    "def infecciones(n,d,b):\n",
    "    return ((1+b)**d)*n\n",
    "\n",
    "print(infecciones(4250,1,0.35))\n",
    "print(infecciones(4250,2,0.35))\n",
    "print(infecciones(4250,7,0.35))\n",
    "print(infecciones(4250,30,0.35))     "
   ]
  },
  {
   "cell_type": "markdown",
   "metadata": {},
   "source": [
    "b) Sabiendo que los Servicios de Medicina Intensiva (SMI) disponen de 3363 camas para enfermos graves, y suponiendo que un 10% de los afectados por el covid-19 requerirán de SMI y una supervivencia del 2,5% (Exitus), escribe un código que calcule:\n",
    "- El día en curso (Día)\n",
    "- El total de afectados por el virus para cada día d (Afectados)\n",
    "- El total de ingresados en SMI por el virus para cada día d (Críticos)\n",
    "- El total de Exitus por el virus para cada día d (Exitus)\n",
    "- Si los servicios de SMI no pueden aceptar los ingresados para cada día $d$ (Estado: indicando Saturación/No Saturación)\n",
    "\n",
    "Imprime en pantalla la información de cada día durante una simulación de tres semanas, suponiendo que no hay recuperaciones, con una población afectada inicial 4250 y una $\\beta = 0.35$ constante. "
   ]
  },
  {
   "cell_type": "code",
   "execution_count": 16,
   "metadata": {},
   "outputs": [
    {
     "name": "stdout",
     "output_type": "stream",
     "text": [
      "Día 0. Afectados: 4250. Críticos 425. Exitus: 10. Situación: No Saturación\n",
      "Día 1. Afectados: 5737. Críticos 573. Exitus: 14. Situación: No Saturación\n",
      "Día 2. Afectados: 7745. Críticos 774. Exitus: 19. Situación: No Saturación\n",
      "Día 3. Afectados: 10456. Críticos 1045. Exitus: 26. Situación: No Saturación\n",
      "Día 4. Afectados: 14116. Críticos 1411. Exitus: 35. Situación: No Saturación\n",
      "Día 5. Afectados: 19057. Críticos 1905. Exitus: 47. Situación: No Saturación\n",
      "Día 6. Afectados: 25727. Críticos 2572. Exitus: 64. Situación: No Saturación\n",
      "Día 7. Afectados: 34731. Críticos 3473. Exitus: 86. Situación: Saturación\n",
      "Día 8. Afectados: 46887. Críticos 4688. Exitus: 117. Situación: Saturación\n",
      "Día 9. Afectados: 63298. Críticos 6329. Exitus: 158. Situación: Saturación\n",
      "Día 10. Afectados: 85452. Críticos 8545. Exitus: 213. Situación: Saturación\n",
      "Día 11. Afectados: 115361. Críticos 11536. Exitus: 288. Situación: Saturación\n",
      "Día 12. Afectados: 155737. Críticos 15573. Exitus: 389. Situación: Saturación\n",
      "Día 13. Afectados: 210246. Críticos 21024. Exitus: 525. Situación: Saturación\n",
      "Día 14. Afectados: 283832. Críticos 28383. Exitus: 709. Situación: Saturación\n",
      "Día 15. Afectados: 383173. Críticos 38317. Exitus: 957. Situación: Saturación\n",
      "Día 16. Afectados: 517284. Críticos 51728. Exitus: 1293. Situación: Saturación\n",
      "Día 17. Afectados: 698333. Críticos 69833. Exitus: 1745. Situación: Saturación\n",
      "Día 18. Afectados: 942750. Críticos 94275. Exitus: 2356. Situación: Saturación\n",
      "Día 19. Afectados: 1272713. Críticos 127271. Exitus: 3181. Situación: Saturación\n",
      "Día 20. Afectados: 1718162. Críticos 171816. Exitus: 4295. Situación: Saturación\n",
      "Día 21. Afectados: 2319519. Críticos 231951. Exitus: 5798. Situación: Saturación\n"
     ]
    }
   ],
   "source": [
    "# Respuesta\n",
    "def situacion():\n",
    "    n = 4250\n",
    "    b = 0.35\n",
    "    d = 0\n",
    "    smi = 3363\n",
    "    while d <= 21:\n",
    "        afectados = infecciones(n,d,b)\n",
    "        criticos = afectados * (10/100)\n",
    "        exitus = criticos * (2.5/100)\n",
    "        camas_ocupadas = criticos\n",
    "        if camas_ocupadas <= smi:\n",
    "            saturación = \"No Saturación\"\n",
    "        else:\n",
    "            saturación = \"Saturación\"\n",
    "        print(f\"Día {d}. Afectados: {int(afectados)}. Críticos {int(criticos)}. Exitus: {int(exitus)}. Situación: {saturación}\")\n",
    "        d += 1\n",
    "\n",
    "situacion()\n"
   ]
  },
  {
   "cell_type": "markdown",
   "metadata": {},
   "source": [
    "c) Convierte el código anterior en una función que genere un archivo de texto con nombre `output.txt`, siguiendo este formato: \n",
    "```\n",
    "Dia, Afectados, Críticos, Exitus, Estado\n",
    "0, 4250, 425,  106, No Saturación\n",
    "1, 5737, 573,  143, No Saturación\n",
    "2, 7745, 774,  193, No Saturación\n",
    "...\n",
    "```\n",
    "Con los parámetros de entrada $N$, $D$, $\\beta$, camas SMI."
   ]
  },
  {
   "cell_type": "code",
   "execution_count": 78,
   "metadata": {},
   "outputs": [
    {
     "name": "stdout",
     "output_type": "stream",
     "text": [
      "Día, Afectados, Críticos, Exitus, Estado\n",
      "0, 4250, 425, 10, No Saturación\n",
      "1, 5737, 573, 14, No Saturación\n",
      "2, 7745, 774, 19, No Saturación\n",
      "3, 10456, 1045, 26, No Saturación\n",
      "4, 14116, 1411, 35, No Saturación\n",
      "5, 19057, 1905, 47, No Saturación\n",
      "6, 25727, 2572, 64, No Saturación\n",
      "7, 34731, 3473, 86, Saturación\n",
      "8, 46887, 4688, 117, Saturación\n",
      "9, 63298, 6329, 158, Saturación\n",
      "10, 85452, 8545, 213, Saturación\n",
      "11, 115361, 11536, 288, Saturación\n",
      "12, 155737, 15573, 389, Saturación\n",
      "13, 210246, 21024, 525, Saturación\n",
      "14, 283832, 28383, 709, Saturación\n",
      "15, 383173, 38317, 957, Saturación\n",
      "16, 517284, 51728, 1293, Saturación\n",
      "17, 698333, 69833, 1745, Saturación\n",
      "18, 942750, 94275, 2356, Saturación\n",
      "19, 1272713, 127271, 3181, Saturación\n",
      "20, 1718162, 171816, 4295, Saturación\n",
      "21, 2319519, 231951, 5798, Saturación\n"
     ]
    }
   ],
   "source": [
    "# Respuesta\n",
    "n = 4250\n",
    "b = 0.35\n",
    "d = 0\n",
    "smi = 3363\n",
    "def situacion_txt(n,d,b,smi):\n",
    "    print(\"Día, Afectados, Críticos, Exitus, Estado\")\n",
    "    while d <= 21:\n",
    "        afectados = infecciones(n,d,b)\n",
    "        criticos = afectados * (10/100)\n",
    "        exitus = criticos * (2.5/100)\n",
    "        camas_ocupadas = criticos\n",
    "        if camas_ocupadas <= smi:\n",
    "            saturación = \"No Saturación\"\n",
    "        else:\n",
    "            saturación = \"Saturación\"\n",
    "        print(f\"{d}, {int(afectados)}, {int(criticos)}, {int(exitus)}, {saturación}\")\n",
    "        d += 1\n",
    "#output = situacion_txt(n,d,b,smi)\n",
    "#file = open(\"output.txt\")\n",
    "#file.write(output)\n",
    "#file.close()\n",
    "\n",
    "situacion_txt(n,d,b,smi)\n",
    "                "
   ]
  },
  {
   "cell_type": "markdown",
   "metadata": {},
   "source": [
    "### Ejercicio 3\n",
    "\n",
    "Dado el siguiente diccionario:"
   ]
  },
  {
   "cell_type": "code",
   "execution_count": 21,
   "metadata": {},
   "outputs": [],
   "source": [
    "d = {\"Alex\":344334443, \"Eva\":5533443, \"Cristina\":443355, \"Jonas\":33223324}"
   ]
  },
  {
   "cell_type": "markdown",
   "metadata": {},
   "source": [
    "Escribid una función que pregunte al usuario que introduzca el nombre de una persona y muestre por pantalla el nombre de la persona y su teléfono. \n",
    "\n",
    "Tened en cuenta que:\n",
    "\n",
    "- La función debe controlar que el valor introducido por el usuario es un nombre que existe en el diccionario. En caso contrario, mostrará un mensaje de error (\"El nombre introducido no corresponde a ninguna persona\") y devolverá el valor False.\n",
    "- Debéis tener en cuenta que el nombre de las personas que nos pasan por parámetro puede ser en minúsculas, mayúsculas o una combinación de ambas, y que debemos encontrar el número de teléfono aunque la capitalización de la cadena entrada por el usuario no sea exactamente la misma que hemos almacenado en el diccionario.\n",
    "- Suponed que  no hay acentos en los nombres.\n",
    "\n",
    "Nota 1: Para realizar la actividad, tendréis que capturar un texto que entrará el usuario. Consultad la [documentación oficial de la función input](https://docs.python.org/3/library/functions.html#input) para ver cómo hacerlo.\n",
    "\n",
    "Nota 2: También tendréis que pensar cómo tratar el hecho de que el usuario pueda utilizar mayúsculas y minúsculas en la escritura del nombre en el diccionario. ¡Os animamos a usar un buscador para intentar encontrar alguna alternativa para resolver este subproblema! ¡Recordad citar las referencias que hayáis usado para resolverlo!\n"
   ]
  },
  {
   "cell_type": "code",
   "execution_count": 70,
   "metadata": {},
   "outputs": [
    {
     "name": "stdout",
     "output_type": "stream",
     "text": [
      "33223324\n"
     ]
    }
   ],
   "source": [
    "d = {\"Alex\":344334443, \"Eva\":5533443, \"Cristina\":443355, \"Jonas\":33223324}\n",
    "\n",
    "# Respuesta\n",
    "\n",
    "nombre = input(\"Introduce el nombre\").title()\n",
    "found = False\n",
    "for key,value in d.items():\n",
    "    if nombre in key:\n",
    "        found = True\n",
    "        break\n",
    "if found == True:\n",
    "    print(value)\n",
    "else:\n",
    "    print(\"El nombre introducido no corresponde a ninguna persona\")\n"
   ]
  },
  {
   "cell_type": "markdown",
   "metadata": {},
   "source": [
    "###  Ejercicio 4\n",
    "\n",
    "Python dispone de un **idiom** muy útil conocido como `list comprehension`. Utilizando este **idiom**, proporcionad una expresión que devuelva las listas siguientes.\n",
    "\n",
    "Nota: Para realizar esta actividad necesitaréis investigar qué son las `list comprehension` y qué sintaxis utilizan. Para ello, se recomienda en primer lugar que utilicéis un buscador para encontrar información genérica sobre esta construcción. Después, os recomendamos que consultéis stackoverflow para ver algunos ejemplos de problemas que se pueden resolver con esta construcción.\n",
    "\n",
    "\n",
    "[stackoverflow](https://stackoverflow.com/) es un sitio de preguntas-y-respuestas muy popular entre programadores. Veréis que para la gran mayoría de las dudas que tengáis, habrá alguien que ya les habrá tenido (y consultado) anteriormente! Así pues, más allá de preguntar vosotros mismos las dudas allí (nosotros ya tenemos el foro del aula para ello!), consultar esta web os permitirá ver qué soluciones proponen otros programadores a estas dudas. A menudo habrá más de una solución a un mismo problema, y podréis valorar cuál es la más adecuada para vuestro problema.\n",
    "\n",
    "Para ver ejemplos de problemas que son adecuados para resolver con **list comprehensions**, os recomendamos leer las siguientes páginas:\n",
    "* https://stackoverflow.com/questions/12555443/squaring-all-elements-in-a-list\n",
    "* https://stackoverflow.com/questions/18551458/how-to-frame-two-for-loops-in-list-comprehension-python\n",
    "* https://stackoverflow.com/questions/24442091/list-comprehension-with-condition\n",
    "* https://stackoverflow.com/questions/41676212/i-want-to-return-only-the-odd-numbers-in-a-list\n",
    "* https://stackoverflow.com/questions/4260280/if-else-in-a-list-comprehension\n"
   ]
  },
  {
   "cell_type": "markdown",
   "metadata": {},
   "source": [
    "a) Una lista con los valores $4 x^2$ donde $x$ es cada uno de los números de la lista `list_1`:"
   ]
  },
  {
   "cell_type": "code",
   "execution_count": 2,
   "metadata": {},
   "outputs": [
    {
     "name": "stdout",
     "output_type": "stream",
     "text": [
      "[4, 16, 36, 64, 100, 144, 196, 256, 324]\n"
     ]
    }
   ],
   "source": [
    "list_1 = [1, 2, 3, 4, 5, 6, 7, 8, 9]\n",
    "\n",
    "list_1_1 = [4*(i**2) for i in list_1]\n",
    "\n",
    "print(list_1_1)\n",
    "\n",
    "# Respuesta\n"
   ]
  },
  {
   "cell_type": "markdown",
   "metadata": {},
   "source": [
    "b) Una lista con los valores $x/(x+1)$ donde $x$ es cada uno de los números de la lista `list_1`:"
   ]
  },
  {
   "cell_type": "code",
   "execution_count": 7,
   "metadata": {},
   "outputs": [
    {
     "name": "stdout",
     "output_type": "stream",
     "text": [
      "[0.5, 0.6666666666666666, 0.75, 0.8, 0.8333333333333334, 0.8571428571428571, 0.875, 0.8888888888888888, 0.9]\n"
     ]
    }
   ],
   "source": [
    "list_1 = [1, 2, 3, 4, 5, 6, 7, 8, 9]\n",
    "\n",
    "list_1_2 = [i/(i+1) for i in list_1]\n",
    "\n",
    "print(list_1_2)\n",
    "\n",
    "# Respuesta"
   ]
  },
  {
   "cell_type": "markdown",
   "metadata": {},
   "source": [
    "c) Una lista con los valores $4x^2/(4x^2-1)$ donde $x$ es cada uno de los números de la lista `list_1`:"
   ]
  },
  {
   "cell_type": "code",
   "execution_count": 8,
   "metadata": {},
   "outputs": [
    {
     "name": "stdout",
     "output_type": "stream",
     "text": [
      "[1.3333333333333333, 1.0666666666666667, 1.0285714285714285, 1.0158730158730158, 1.0101010101010102, 1.006993006993007, 1.005128205128205, 1.003921568627451, 1.0030959752321982]\n"
     ]
    }
   ],
   "source": [
    "list_1 = [1, 2, 3, 4, 5, 6, 7, 8, 9]\n",
    "\n",
    "list_1_3 = [(4*(i**2))/(4*(i**2)-1) for i in list_1]\n",
    "\n",
    "print(list_1_3)\n",
    "\n",
    "# Respuesta\n"
   ]
  },
  {
   "cell_type": "markdown",
   "metadata": {},
   "source": [
    "### Ejercicio 5\n",
    "\n",
    "El siguiente ejercicio consiste en pasar un número en base 16 (hexadecimal, 0-9/A-F) a base 10 (decimal). Para hacerlo, debéis crear una **función** que dado un _string_ que representa un número en hexadecimal, por ejemplo, `AE3F`, devuelva el número \n",
    "natural correspondiente. En este caso, el resultado sería `44607`."
   ]
  },
  {
   "cell_type": "code",
   "execution_count": 13,
   "metadata": {},
   "outputs": [
    {
     "data": {
      "text/plain": [
       "44607"
      ]
     },
     "execution_count": 13,
     "metadata": {},
     "output_type": "execute_result"
    }
   ],
   "source": [
    "# Respuesta\n",
    "\n",
    "def decimal(numero):\n",
    "    return int(numero,16)\n",
    "\n",
    "decimal(\"AE3F\")"
   ]
  },
  {
   "cell_type": "markdown",
   "metadata": {},
   "source": [
    "### Ejercicio 6\n",
    "\n",
    "Las excepciones son errores detectados en tiempo de ejecución. Pueden y deben ser manejadas por el programador para minimizar el riesgo de que un determinado programa falle de forma no controlada. Escribid, en lenguaje Python, cómo generar y capturar la siguiente excepción: **ZeroDivisionError**."
   ]
  },
  {
   "cell_type": "code",
   "execution_count": 21,
   "metadata": {},
   "outputs": [
    {
     "data": {
      "text/plain": [
       "'No es pobible dividir por cero'"
      ]
     },
     "execution_count": 21,
     "metadata": {},
     "output_type": "execute_result"
    }
   ],
   "source": [
    "# Respuesta\n",
    "\n",
    "# Para manejar excepciones y llamar un código incluso cuando éstas ocurren, podemos usar try/except.\n",
    "# El bloque bajo \"try\" contiene el código que debería contener la excepción. Si dicha excepción ocurre, \n",
    "# el código \"try\" se para y pasa al bloque \"except\". En el caso de que no haya ningún error en el bloque \"try\", \n",
    "# el bloque \"except\" no se ejecuta.\n",
    "\n",
    "def division_1(num1,num2):\n",
    "    try:\n",
    "        return num1/num2\n",
    "    except ZeroDivisionError:\n",
    "        return \"No es pobible dividir por cero\"\n",
    "\n",
    "division_1(5,0)"
   ]
  },
  {
   "cell_type": "markdown",
   "metadata": {},
   "source": [
    "### Ejercicio 7\n",
    "\n",
    "Completad el código necesario para calcular el número de vocales y de consonantes respectivamente de un texto."
   ]
  },
  {
   "cell_type": "code",
   "execution_count": 21,
   "metadata": {},
   "outputs": [
    {
     "name": "stdout",
     "output_type": "stream",
     "text": [
      "El número de vocales es 44.\n",
      "El número de consonantes es 101.\n"
     ]
    }
   ],
   "source": [
    "def contar_vocales_y_consonantes(texto):\n",
    "    # Cuenta las vocales contenidas en el string texto y también las consonantes.\n",
    "    num_vocales = 0\n",
    "    num_consonantes = 0\n",
    "   \n",
    "    for i in texto:\n",
    "        if i == \"a\" or i == \"e\" or i == \"i\" or i == \"o\" or i == \"u\":\n",
    "            num_vocales += 1\n",
    "        else:\n",
    "            num_consonantes += 1\n",
    "\n",
    "    return num_vocales, num_consonantes\n",
    "\n",
    "texto = \"Orbiting Earth in the spaceship, I saw how beautiful our planet is. \\\n",
    "            People, let us preserve and increase this beauty, not destroy it!\".lower()\n",
    "\n",
    "num_vocales, num_consonantes = contar_vocales_y_consonantes(texto)\n",
    "print(\"El número de vocales es %d.\" % num_vocales)\n",
    "print(\"El número de consonantes es %d.\" % num_consonantes)"
   ]
  },
  {
   "cell_type": "markdown",
   "metadata": {},
   "source": [
    "### Ejercicio 8\n",
    "\n",
    "Escribid una función que dada una lista de planetas del sistema solar, pregunte al usuario que introduzca una posición y muestre el plante correspondiente a dicha posición. Por ejemplo, si tenemos la siguiente lista: `['Mercurio', 'Venus', 'Tierra', 'Marte']` y el usuario nos ha introducido la posición `3`, hemos de mostrar como resultado por pantalla: `Tierra`.\n",
    "\n",
    "Consideraciones:\n",
    "\n",
    "- La posición que introduzca el usuario tiene que ser un número entero estrictamente positivo.\n",
    "- La función debe controlar el acceso a una posición fuera de la lista mediante una **excepción**. Por ejemplo, en el caso anterior debemos mostrar una mensaje de error si el usuario pide acceder a la posición 10."
   ]
  },
  {
   "cell_type": "code",
   "execution_count": 60,
   "metadata": {},
   "outputs": [
    {
     "data": {
      "text/plain": [
       "'Tierra'"
      ]
     },
     "execution_count": 60,
     "metadata": {},
     "output_type": "execute_result"
    }
   ],
   "source": [
    "# Respuesta\n",
    "\n",
    "planetas = ['Mercurio', 'Venus', 'Tierra', 'Marte', 'Jupiter', 'Saturno', 'Urano', 'Neptuno', 'Pluto']\n",
    "\n",
    "def posicion_planetas():\n",
    "    try:\n",
    "        n = int(input(\"Elije una posición\"))\n",
    "        if n > 0:\n",
    "            return planetas[n-1]\n",
    "        else:\n",
    "            return \"El número tiene que ser estrictamente positivo\"\n",
    "    except IndexError:\n",
    "        return \"Índice de lista fuera del rango\"\n",
    "\n",
    "\n",
    "posicion_planetas()"
   ]
  },
  {
   "cell_type": "markdown",
   "metadata": {},
   "source": [
    "### Ejercicio 9\n",
    "\n",
    "Dada una lista de planetas del sistema solar, determinad cuales de estos planetas tienen una masa superior a la de la Tierra. Por ejemplo, si la lista inicial es `['Venus', 'Marte', 'Saturno']`, el resultado que mostraríamos por pantalla sería `['Saturno']` ya que el planeta Saturno tiene una masa `95.2` veces superior a la Tierra.\n",
    "\n",
    "Consideraciones:\n",
    "\n",
    "- Debéis tener en cuenta que el nombre de los planetas que nos pasan por parámetro puede estar en minúsculas, mayúsculas o una combinación de ambas.\n",
    "- Podéis asumir que no habrá acentos en el nombre de los planetas.\n",
    "- Debéis determinar aquellos planetas que tiene una massa estrictamente superior a la de la Tierra.\n",
    "- No habrá planetas repetidos en la lista que nos pasan por parámetro."
   ]
  },
  {
   "cell_type": "code",
   "execution_count": 1,
   "metadata": {},
   "outputs": [],
   "source": [
    "masas = {'Mercurio': 0.06, 'Venus': 0.82, 'Tierra': 1, 'Marte': 0.11, 'Jupiter': 317.8, \n",
    "          'Saturno': 95.2, 'Urano': 14.6, 'Neptuno': 17.2, 'Pluto': 0.0022}\n"
   ]
  },
  {
   "cell_type": "code",
   "execution_count": 31,
   "metadata": {},
   "outputs": [
    {
     "name": "stdout",
     "output_type": "stream",
     "text": [
      "[]\n",
      "['Jupiter', 'Saturno']\n",
      "['Urano', 'Neptuno']\n",
      "['Saturno']\n"
     ]
    }
   ],
   "source": [
    "def planetas_mas_grandes_que_Tierra(planetas):\n",
    "    \"\"\"\n",
    "    Planetas con una masa superior a la de la Tierra\n",
    "    \"\"\"\n",
    "    planetas_masa_superior = []\n",
    "    planetas = [planeta.capitalize() for planeta in planetas]\n",
    "    \n",
    "    for planeta,values in masas.items():\n",
    "        if planeta in planetas:\n",
    "            if values > masas[\"Tierra\"]:\n",
    "                planetas_masa_superior.append(planeta)\n",
    "\n",
    "\n",
    "    return planetas_masa_superior\n",
    "\n",
    "# Ejemplos de uso de la función anterior\n",
    "print(planetas_mas_grandes_que_Tierra(['Venus', 'Mercurio', 'Marte']))\n",
    "print(planetas_mas_grandes_que_Tierra(['Jupiter', 'Saturno', 'Pluto']))\n",
    "print(planetas_mas_grandes_que_Tierra(['urano', 'tierra', 'neptuno', 'marte', 'Venus']))\n",
    "print(planetas_mas_grandes_que_Tierra(['Tierra', 'MeRcUrIo', 'PLUTO', 'SATURNO']))\n",
    "\n",
    "# Podéis añadir más ejemplos si lo consideráis oportuno"
   ]
  },
  {
   "cell_type": "markdown",
   "metadata": {},
   "source": [
    "### Ejercicio 10\n",
    "\n",
    "Dada una cadena de caracteres, `s`, de longitud `n` y un número entero positivo `k`, siendo `k` un divisor de `n`, podemos dividir la cadena `s` en `n / k` sub-cadenas de la misma longitud.\n",
    "\n",
    "Escribid una función que, dada una cadena `s` y un número entero `k`, devuelva las `n/k` sub-cadenas teniendo en cuenta las siguientes consideraciones:\n",
    "\n",
    "- El orden de los caracteres en las sub-cadenas debe ser el mismo que en la cadena original.\n",
    "- Todos los caracteres de las sub-cadenas deben aparecer una única vez. Es decir, si un caracter se repite dentro de una sub-cadena, sólo hemos de mostrar la primera ocurrencia.\n",
    "\n",
    "Por ejemplo, si tenemmos\n",
    "<code>\n",
    "s = AABCCAADA\n",
    "k = 3\n",
    "</code>\n",
    "\n",
    "el resultado a mostrar por pantalla sería:\n",
    "<code>\n",
    "AB\n",
    "CA\n",
    "AD\n",
    "</code>\n",
    "\n",
    "Tenemos que la longitud de la cadena es 9 y por lo tanto, podemos formar 3 sub-cadenas:\n",
    "\n",
    "`AAB -> AB` (el caracter A se repite dos veces)\n",
    "\n",
    "`CCA -> CA` (el caracter C se repite dos veces)\n",
    "\n",
    "`ADA -> AD` (el caracter A se repite dos veces)"
   ]
  },
  {
   "cell_type": "code",
   "execution_count": 61,
   "metadata": {},
   "outputs": [
    {
     "name": "stdout",
     "output_type": "stream",
     "text": [
      "AAB\n",
      "CCA\n",
      "ADA\n"
     ]
    }
   ],
   "source": [
    "# Respuesta\n",
    "\n",
    "s = \"AABCCAADA\"\n",
    "k = 3\n",
    "n = len(s)\n",
    "caracteres = int(n/3)\n",
    "d = 0\n",
    "\n",
    "sub_1 = s[:caracteres]\n",
    "sub_2 = s[caracteres:caracteres+caracteres]\n",
    "sub_3 = s[caracteres+caracteres:caracteres*k]\n",
    "\n",
    "print(sub_1)\n",
    "print(sub_2)\n",
    "print(sub_3)"
   ]
  }
 ],
 "metadata": {
  "interpreter": {
   "hash": "3a457f06cda4579c7033761bf4e886c4764e74b759b9220f07c03aa5d4880471"
  },
  "kernelspec": {
   "display_name": "Python 3.9.5 ('data_science_py395')",
   "language": "python",
   "name": "python3"
  },
  "language_info": {
   "codemirror_mode": {
    "name": "ipython",
    "version": 3
   },
   "file_extension": ".py",
   "mimetype": "text/x-python",
   "name": "python",
   "nbconvert_exporter": "python",
   "pygments_lexer": "ipython3",
   "version": "3.9.5"
  },
  "orig_nbformat": 4
 },
 "nbformat": 4,
 "nbformat_minor": 2
}
