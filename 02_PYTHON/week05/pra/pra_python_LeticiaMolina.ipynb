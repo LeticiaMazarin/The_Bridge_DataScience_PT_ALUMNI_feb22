{
 "cells": [
  {
   "cell_type": "markdown",
   "metadata": {},
   "source": [
    "### Pregunta 1\n",
    "\n",
    "¿Cuál es el valor final de a, b y c? (atención a los tipos de número decimal y entero)\n",
    "\n",
    "a = 5 * 11\n",
    "\n",
    "b = a / 2.\n",
    "\n",
    "c, a = b * 2, b + 1"
   ]
  },
  {
   "cell_type": "code",
   "execution_count": 5,
   "metadata": {},
   "outputs": [],
   "source": [
    "# Respuesta\n",
    "\n",
    "# El valor final de a es 28.5 porque en la última línea sustituimos el primer valor de a (que era 55)\n",
    "# por el nuevo valor de a que b+1.\n",
    "# b está definido por el primer valor de a (55) dividido por 2. Su valor, por lo tanto es 27.5\n",
    "# c viene definido por el valor de b*2, o seam 55.0\n",
    "\n",
    "a=5*11\n",
    "b=a/2.\n",
    "c,a=b*2,b+1"
   ]
  },
  {
   "cell_type": "markdown",
   "metadata": {},
   "source": [
    "### Pregunta 2\n",
    "\n",
    "Identifica tres tipos de datos de Python y explica brevemente en qué se diferencian. Explica la diferencia entre el tipo lista y el tipo tupla.\n",
    "\n",
    "#### 3 Tipos de datos en python\n",
    "string - Un string es una cadena de caracteres que se consideran como texto. Deben venir siempre dentro de comilla.  \n",
    "\n",
    "integer - Es un número entero.\n",
    "\n",
    "float - Es un número en decimales.\n",
    "\n",
    "#### Diferencia en list y tuple\n",
    "\n",
    "Listas - Son colecciones ordenadas de elementos, posiblemente heterogeneos. Vienen dadas por corchetes []. Son mutables.\n",
    "\n",
    "Tuplas - Son colecciones ordenadas de elementos, posiblemente heterogeneos. Vienen dadas por parentesis (). Son inmutables."
   ]
  },
  {
   "cell_type": "markdown",
   "metadata": {},
   "source": [
    "### Pregunta 3\n",
    "\n",
    "¿Cuál es el resultado de la operación lógica ` 'manzana'> 'casa'`? Explica por qué. \n",
    "\n",
    "**Nota**: Consultad en estándar [Unicode](https://es.wikipedia.org/wiki/Unicode) para la codificación de caracteres.\n",
    "\n",
    "El resultado es verdadero (True) porque, si pones en orden alfabetico, casa viene antes de manzana. Por lo tanto,\n",
    "para Python, si la cadena de caracteres viene antes, entonces significa que es menor, como si fuese un ordenar de manera\n",
    "creciente."
   ]
  },
  {
   "cell_type": "markdown",
   "metadata": {},
   "source": [
    "### Ejercicio 1\n",
    "\n",
    "Escribir un programa que seleccione la cadena \"analista\" a partir de la cadena: \"Ana es buena analista de datos.\". Mostrar el resultado por pantalla."
   ]
  },
  {
   "cell_type": "code",
   "execution_count": 65,
   "metadata": {},
   "outputs": [
    {
     "data": {
      "text/plain": [
       "'analista'"
      ]
     },
     "execution_count": 65,
     "metadata": {},
     "output_type": "execute_result"
    }
   ],
   "source": [
    "# Respuesta\n",
    "\n",
    "a = \"Ana es una buena analista de datos\"\n",
    "\n",
    "def find_word(i):\n",
    "    if i in a:\n",
    "        return i\n",
    "\n",
    "find_word(\"analista\")\n"
   ]
  },
  {
   "cell_type": "markdown",
   "metadata": {},
   "source": [
    "### Ejercicio 2\n",
    "\n",
    "Qué expresión en Python necesitamos para conseguir el _string_\n",
    "\"nohtyPythonython\" utilizando sólo la palabra \"Python\"? "
   ]
  },
  {
   "cell_type": "code",
   "execution_count": 18,
   "metadata": {},
   "outputs": [
    {
     "name": "stdout",
     "output_type": "stream",
     "text": [
      "nohtyPythonython\n"
     ]
    }
   ],
   "source": [
    "# Respuesta\n",
    "\n",
    "b = \"Python\"\n",
    "\n",
    "if \"Python\" in b:\n",
    "    print(b[::-1]+2*b[1:6])\n"
   ]
  },
  {
   "cell_type": "markdown",
   "metadata": {},
   "source": [
    "### Ejercicio 3\n",
    "\n",
    "Escribe un programa que asigne dos valores enteros cualquiera (elije un número entero aleatorio) a dos variables con nombre `a` y `b`. Utiliza las variables definidas anteriormente para evaluar la siguiente expresión matemática:\n",
    "\n",
    "( a<sup>2</sup> + b<sup>2</sup> )<sup>2</sup>\n"
   ]
  },
  {
   "cell_type": "code",
   "execution_count": 14,
   "metadata": {},
   "outputs": [
    {
     "data": {
      "text/plain": [
       "1156"
      ]
     },
     "execution_count": 14,
     "metadata": {},
     "output_type": "execute_result"
    }
   ],
   "source": [
    "# Respuesta\n",
    "\n",
    "# Defino una función sencilla para realizar la operación indicada:\n",
    "\n",
    "def operacion(a,b):\n",
    "    return (a**2+b**2)**2\n",
    "\n",
    "operacion(5,3)"
   ]
  },
  {
   "cell_type": "markdown",
   "metadata": {},
   "source": [
    "### Ejercicio 4\n",
    "\n",
    "Escribir un programa que calcule el volumen de una pirámide cuadrangular con una base de 4x5 metros de longitud y anchura respectivamente, y con una altura de 7,5 m. Recuerda que la fórmula para calcular el volumen es <img src=\"https://wikimedia.org/api/rest_v1/media/math/render/svg/5bbc1ec5d10639d395ebc85e74cbf697d2220035\" title=\"EquacioVolumPiramide\" />\n",
    "\n",
    "donde _l_ y _w_ son la longitud y la anchura de la base, y _h_ es la altura."
   ]
  },
  {
   "cell_type": "code",
   "execution_count": 15,
   "metadata": {},
   "outputs": [
    {
     "data": {
      "text/plain": [
       "50.0"
      ]
     },
     "execution_count": 15,
     "metadata": {},
     "output_type": "execute_result"
    }
   ],
   "source": [
    "# Respuesta\n",
    "\n",
    "def piramide(l,w,h):\n",
    "    return (1/3)*(l*w*h)\n",
    "\n",
    "piramide(4,5,7.5)"
   ]
  },
  {
   "cell_type": "markdown",
   "metadata": {},
   "source": [
    "### Ejercicio 5\n",
    "\n",
    "Escribe un programa que defina una lista con el nombre de todos los meses del año. Haz que muestre los meses que corresponden a otoño."
   ]
  },
  {
   "cell_type": "code",
   "execution_count": 24,
   "metadata": {},
   "outputs": [
    {
     "data": {
      "text/plain": [
       "['septiembre', 'octubre', 'noviembre']"
      ]
     },
     "execution_count": 24,
     "metadata": {},
     "output_type": "execute_result"
    }
   ],
   "source": [
    "# Respuesta\n",
    "\n",
    "def meses():\n",
    "    meses_anio = [\"enero\", \"febrero\", \"marzo\", \"abril\", \"mayo\", \"junio\", \"julio\", \"agosto\", \"septiembre\", \"octubre\", \"noviembre\", \"diciembre\"]\n",
    "    return meses_anio[8:11]\n",
    "\n",
    "meses()\n",
    "    "
   ]
  },
  {
   "cell_type": "markdown",
   "metadata": {},
   "source": [
    "### Ejercicio 6\n",
    "\n",
    "Escribe un programa que a partir de la lista de números dada muestre por pantalla una cadena de caracteres con todos los números, separados entre sí por un guión, y duplicando el primero y el último elemento de la lista.\n",
    "\n",
    "Así, por ejemplo, para la lista ['1', '2', '3'] , el programa debería mostrar la cadena: '1-1-2-3-3'.\n"
   ]
  },
  {
   "cell_type": "code",
   "execution_count": 2,
   "metadata": {},
   "outputs": [
    {
     "name": "stdout",
     "output_type": "stream",
     "text": [
      "1-1-2-3-3\n"
     ]
    }
   ],
   "source": [
    "# Respuesta\n",
    "list_numbers = [\"1\",\"2\",\"3\"]\n",
    "# Primero añado el número 1 en la lista usando insert para indicar en que index debo inserirlo.\n",
    "for i in list_numbers[0]:\n",
    "    list_numbers.insert(0,i)\n",
    "# Después vuelvo a duplicar el último número de la lista usando append.\n",
    "for i in list_numbers[-1]:\n",
    "    list_numbers.append(i)\n",
    "# Para transformar la lista en un string, he creado una variable de string vacía y voy sumando los \n",
    "# elementos en la variable vacía con \"-\".\n",
    "list_join = \"\"\n",
    "for i in list_numbers:\n",
    "    list_join += i + \"-\"\n",
    "list_join = list_join[: -1]\n",
    "\n",
    "print(list_join)\n",
    "\n"
   ]
  },
  {
   "cell_type": "markdown",
   "metadata": {},
   "source": [
    "### Ejercicio 7\n",
    "\n",
    "Ordena la siguiente lista de cadenas de caracteres:\n",
    "\n",
    "1. Invirtiendo el orden original\n",
    "2. En orden alfabético inverso\n",
    "\n",
    "**Nota**: Puedes consultar la documentación oficial de la función [`sorted ()`](https://docs.python.org/3/library/functions.html#sorted) para ver qué parámetros puedes utilizar para resolver la segunda parte de la actividad.\n"
   ]
  },
  {
   "cell_type": "code",
   "execution_count": 25,
   "metadata": {},
   "outputs": [
    {
     "name": "stdout",
     "output_type": "stream",
     "text": [
      "['Jadzia Dax', 'Quark', 'Odo', 'Kira Nerys', 'Benjamin Sisko']\n",
      "['Quark', 'Odo', 'Kira Nerys', 'Jadzia Dax', 'Benjamin Sisko']\n"
     ]
    }
   ],
   "source": [
    "st_chars = [\"Benjamin Sisko\", \"Kira Nerys\", \"Odo\", \"Quark\", \"Jadzia Dax\"]\n",
    "\n",
    "st_chars_a = st_chars[::-1]\n",
    "st_chars_b = sorted(st_chars,reverse=True)\n",
    "\n",
    "print(st_chars_inverse)\n",
    "print(st_chars_reverse)"
   ]
  },
  {
   "cell_type": "markdown",
   "metadata": {},
   "source": [
    "### Ejercicio 8\n",
    "\n",
    "A partir de la siguiente lista,\n",
    "\n",
    "```A_list = [42, 7.5, \"Answer to the Ultimate Question\", \"Dave\", 7.5]```\n",
    "\n",
    "proporciona expresiones que retornen:\n",
    "\n",
    "1. El número de veces que aparece el elemento `7.5` en la lista.\n",
    "2. La posición de la primera aparición del valor `7.5`.\n",
    "3. La misma lista sin el último elemento.\n",
    "\n",
    "**Nota**: En el notebook de teoría hemos visto que son las listas y algunas operaciones sobre ellas. Para hacer la actividad, necesitaréis investigar algunas operaciones adicionales que podemos realizar sobre listas. Para ello podéis consultar la documentación oficial de Python sobre listas ([intro](https://docs.python.org/3/tutorial/introduction.html#lists) y [más sobre listas](https://docs.python.org/3/tutorial/datastructures.html#more-on-lists))."
   ]
  },
  {
   "cell_type": "code",
   "execution_count": 11,
   "metadata": {},
   "outputs": [
    {
     "data": {
      "text/plain": [
       "[1, 4]"
      ]
     },
     "execution_count": 11,
     "metadata": {},
     "output_type": "execute_result"
    }
   ],
   "source": [
    "# Respuesta\n",
    "a_list = [42, 7.5, \"Answer to the Ultimate Question\", \"Dave\", 7.5]\n",
    "\n",
    "def indices(a_list, n):\n",
    "    return [i for i, x in enumerate(a_list) if x == n]\n",
    "\n",
    "indices(a_list, 7.5)"
   ]
  },
  {
   "cell_type": "markdown",
   "metadata": {},
   "source": [
    "### Ejercicio 9\n",
    "\n",
    "¿Qué expresión en Python necesitamos para conseguir la _string_ `Learning Python` utilizando sólo las variables` str1` y `str2` definidas?"
   ]
  },
  {
   "cell_type": "code",
   "execution_count": 24,
   "metadata": {},
   "outputs": [
    {
     "data": {
      "text/plain": [
       "'Learning Python'"
      ]
     },
     "execution_count": 24,
     "metadata": {},
     "output_type": "execute_result"
    }
   ],
   "source": [
    "# Respuesta\n",
    "\n",
    "str1 = \"Learning\"\n",
    "str2 = \" Python\"\n",
    "\n",
    "str1+str2"
   ]
  },
  {
   "cell_type": "markdown",
   "metadata": {},
   "source": [
    "### Ejercicio 10\n",
    "\n",
    "El codigo que se presenta a continuación no funciona: \n",
    "\n",
    "Corrige el error y explica por qué sucede."
   ]
  },
  {
   "cell_type": "code",
   "execution_count": 23,
   "metadata": {},
   "outputs": [
    {
     "name": "stdout",
     "output_type": "stream",
     "text": [
      "Hello, my name is Alex and I'm 20 years old!\n"
     ]
    }
   ],
   "source": [
    "name = \"Alex\"\n",
    "\n",
    "age = 20\n",
    "\n",
    "print(\"Hello, my name is %s and I'm %d years old!\" % (name, age))\n",
    "\n",
    "# Para que el codigo funcione correctamente, como la variable name es un string, tenemos que usar\n",
    "# el placeholder %s en lugar de %d. Eso porque %d llama números  mientras que %s llama texto."
   ]
  },
  {
   "cell_type": "markdown",
   "metadata": {},
   "source": [
    "### Ejercicio 11\n",
    "\n",
    "En este ejercicio utilizaremos la frase: La paciencia es la madre de la ciencia.\n",
    "\n",
    "a) Extrae las palabras paciencia y ciencia de la cadena de strings definida anteriormente.\n",
    "\n",
    "b) Crea la palabra ciencia a partir de paciencia, y la palabra paciencia a partir de ciencia.\n",
    "\n",
    "c) Separa la frase en las diferentes palabras que la forman (e.g. \"La\", \"paciencia,\" es \", etc). ¿Cuál es el separador que debemos usar?\n",
    "\n",
    "d) Vuelve a unir los elementos de la frase mediante \"-\" (e.g. \"La-paciencia-es ...\").\n"
   ]
  },
  {
   "cell_type": "code",
   "execution_count": 12,
   "metadata": {},
   "outputs": [
    {
     "name": "stdout",
     "output_type": "stream",
     "text": [
      "['paciencia', 'ciencia']\n",
      "ciencia\n",
      "paciencia\n",
      "['La', 'paciencia', 'es', 'la', 'madre', 'de', 'la', 'ciencia']\n",
      "La-paciencia-es-la-madre-de-la-ciencia\n"
     ]
    }
   ],
   "source": [
    "# Respuesta\n",
    "\n",
    "frase = \"La paciencia es la madre de la ciencia\"\n",
    "\n",
    "# Defino una lista vacía para extraer las palabras indicadas arriba y guardarlas en una lista nueva.\n",
    "new_lista = []\n",
    "if \"paciencia\" in frase:\n",
    "    new_lista.append(\"paciencia\")\n",
    "if \"ciencia\" in frase:\n",
    "    new_lista.append(\"ciencia\")\n",
    "print(new_lista)\n",
    "\n",
    "# Para crear las palabras nuevas, simplemente uso operaciones con la lista creada:\n",
    "print(new_lista[0][2:])\n",
    "print(new_lista[0][:2]+new_lista[1])\n",
    "\n",
    "# Split transforma un string en una lista, separandola por los espacios\n",
    "lista_frase = frase.split()\n",
    "print(lista_frase)\n",
    "\n",
    "# Aquí transformo la lista en un string con - separando las palabras.\n",
    "unir_string = \"\"\n",
    "for i in lista_frase:\n",
    "    unir_string += i + \"-\"\n",
    "unir_string = unir_string[: -1]\n",
    "\n",
    "print(unir_string)\n",
    "\n"
   ]
  }
 ],
 "metadata": {
  "interpreter": {
   "hash": "3a457f06cda4579c7033761bf4e886c4764e74b759b9220f07c03aa5d4880471"
  },
  "kernelspec": {
   "display_name": "Python 3.9.5 ('data_science_py395')",
   "language": "python",
   "name": "python3"
  },
  "language_info": {
   "codemirror_mode": {
    "name": "ipython",
    "version": 3
   },
   "file_extension": ".py",
   "mimetype": "text/x-python",
   "name": "python",
   "nbconvert_exporter": "python",
   "pygments_lexer": "ipython3",
   "version": "3.9.5"
  },
  "orig_nbformat": 4
 },
 "nbformat": 4,
 "nbformat_minor": 2
}
